{
 "cells": [
  {
   "cell_type": "code",
   "execution_count": 1,
   "id": "c2d3a5fc",
   "metadata": {},
   "outputs": [
    {
     "name": "stdout",
     "output_type": "stream",
     "text": [
      "Number of class 1 =  7\n",
      "Number of class 2 =  5\n",
      "Correctly Classified =  9\n",
      "Training Accuracy =  75.0 %\n"
     ]
    },
    {
     "data": {
      "image/png": "[encoded data removed]",
      "text/plain": [
       "<Figure size 640x480 with 1 Axes>"
      ]
     },
     "metadata": {},
     "output_type": "display_data"
    }
   ],
   "source": [
    "#Importing libraires numpy for data handling and matplotlib for plotting  \n",
    "import numpy as np\n",
    "import matplotlib.pyplot as plt\n",
    "\n",
    "\n",
    "#data points\n",
    "c1=np.array(([2,3],[3,3],[3,4],[1,4],[4,1],[4,3]))\n",
    "c2=np.array(([0,0],[0,3],[1,1],[1,2],[2,1],[2,2]))\n",
    "\n",
    "#test\n",
    "# print(c1)\n",
    "# print(c2)\n",
    "\n",
    "#Separating the x and y cords of each class\n",
    "c1_x_coords, c1_y_coords = c1[:, 0], c1[:, 1]\n",
    "c2_x_coords, c2_y_coords = c2[:, 0], c2[:, 1]\n",
    "\n",
    "#Threshold set up\n",
    "thy=0\n",
    "thx=0\n",
    "\n",
    "#plotting values and setting labels\n",
    "plt.axis([0,6,0,6])\n",
    "plt.scatter(c1_x_coords,c1_y_coords,color='red',marker='*')\n",
    "plt.scatter(c2_x_coords,c2_y_coords,color='blue',marker='s')\n",
    "plt.xlabel(\"X\")\n",
    "plt.ylabel(\"Y\")\n",
    "plt.title(\"Classifier Chart\")\n",
    "plt.show\n",
    "\n",
    "\n",
    "#Part 2 & 3 & 72\n",
    "\n",
    "while True:\n",
    "\n",
    "    thx=(input(\"Please enter a integer value for theta_x: \"))\n",
    "    thy=(input(\"Please enter a integer value for theta_y: \"))\n",
    "\n",
    "    if thx=='x' or thy=='x':\n",
    "      exit()\n",
    "\n",
    "\n",
    "    try:\n",
    "      num = float(thx)\n",
    "      num = float(thy)\n",
    "      break  # Exit the loop if the input is a valid number\n",
    "    except ValueError:\n",
    "        print(\"Invalid input. Please enter a number.\")\n",
    "\n",
    "\n",
    "\n",
    "thx=float(thx)\n",
    "thy=float(thy)\n",
    "\n",
    "plt.axhline(y=thy, color='gray', linestyle='--')\n",
    "plt.axvline(x=thx, color='gray', linestyle='--')\n",
    "plt.show\n",
    "\n",
    "#Part 4\n",
    "\n",
    "#declaring variables\n",
    "total_c1=0\n",
    "total_c2=0\n",
    "total_correct=0\n",
    "num_elements = (c1.size+c2.size)/2\n",
    "training_accuracy = 0\n",
    "for i in c1:\n",
    "    if i[0]>thx and i[1]>thy:\n",
    "      total_c1+=1\n",
    "      total_correct+=1\n",
    "    else:\n",
    "      total_c2+=1\n",
    "for i in c2:\n",
    "    if i[0]>thx and i[1]>thy:\n",
    "      total_c1+=1\n",
    "    else:\n",
    "      total_c2+=1\n",
    "      total_correct+=1\n",
    "\n",
    "#calculating and printing accuracy\n",
    "training_accuracy = total_correct/num_elements*100\n",
    "print(\"Number of class 1 = \",total_c1)\n",
    "print(\"Number of class 2 = \",total_c2)\n",
    "print(\"Correctly Classified = \",total_correct)\n",
    "print(\"Training Accuracy = \",round(training_accuracy,2),\"%\")\n"
   ]
  }
 ],
 "metadata": {
  "kernelspec": {
   "display_name": "Python 3",
   "language": "python",
   "name": "python3"
  },
  "language_info": {
   "codemirror_mode": {
    "name": "ipython",
    "version": 3
   },
   "file_extension": ".py",
   "mimetype": "text/x-python",
   "name": "python",
   "nbconvert_exporter": "python",
   "pygments_lexer": "ipython3",
   "version": "3.12.6"
  }
 },
 "nbformat": 4,
 "nbformat_minor": 5
}
